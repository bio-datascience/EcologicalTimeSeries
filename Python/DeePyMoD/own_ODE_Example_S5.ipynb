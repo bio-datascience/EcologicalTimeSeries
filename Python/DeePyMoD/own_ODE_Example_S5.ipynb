{
 "cells": [
  {
   "attachments": {},
   "cell_type": "markdown",
   "metadata": {},
   "source": [
    "DeePyMoD ODE Example"
   ]
  },
  {
   "cell_type": "code",
   "execution_count": 28,
   "metadata": {},
   "outputs": [
    {
     "name": "stdout",
     "output_type": "stream",
     "text": [
      "cpu\n"
     ]
    }
   ],
   "source": [
    "# General imports\n",
    "import numpy as np\n",
    "import torch\n",
    "import matplotlib.pylab as plt\n",
    "\n",
    "# DeepMoD functions\n",
    "\n",
    "from deepymod import DeepMoD\n",
    "from deepymod.data import Dataset, get_train_test_loader\n",
    "from deepymod.data.samples import Subsample_random\n",
    "from deepymod.model.func_approx import NN\n",
    "from deepymod.model.constraint import LeastSquares\n",
    "from deepymod.model.sparse_estimators import Threshold, PDEFIND\n",
    "from deepymod.training import train\n",
    "from deepymod.training.sparsity_scheduler import TrainTestPeriodic\n",
    "from scipy.io import loadmat\n",
    "\n",
    "\n",
    "import torch\n",
    "# from torch.autograd import grad\n",
    "# from itertools import combinations\n",
    "# from functools import reduce\n",
    "# from typing import Tuple\n",
    "# from deepymod.utils.types import TensorList\n",
    "# from deepymod.model.library import Library\n",
    "import libraryODE\n",
    "\n",
    "# Settings for reproducibility\n",
    "np.random.seed(40)\n",
    "torch.manual_seed(0)\n",
    "\n",
    "# Configuring GPU or CPU\n",
    "if False: #torch.cuda.is_available():\n",
    "    device = \"cuda\"\n",
    "else:\n",
    "    device = \"cpu\"\n",
    "print(device)"
   ]
  },
  {
   "attachments": {},
   "cell_type": "markdown",
   "metadata": {},
   "source": [
    "# Preparing a new dataset\n",
    "Firstly we prepare the dataset.\n",
    "Therfore we load the time series from .mat file and transform it into a Dataset object."
   ]
  },
  {
   "attachments": {},
   "cell_type": "markdown",
   "metadata": {},
   "source": [
    "### Simulated with miaSim\n",
    "\n",
    "Interaction matrix \n",
    "$A = \\begin{pmatrix}\n",
    "-0.5 & 20 & 0 & 0 & 0 \\\\\n",
    "-28 & -0.5 & 0 & 0 & 0 \\\\\n",
    "0 & 0 & -0.5 & 0 & -20 \\\\\n",
    "0 & 0 & 0 & -0.5 & -60 \\\\\n",
    "0 & 0 & 0 & 40 & -0.5\n",
    "\\end{pmatrix}$\n",
    "\n",
    "and growth rates:\n",
    "$ b = (10, -1, 4, 10, -10)$"
   ]
  },
  {
   "attachments": {},
   "cell_type": "markdown",
   "metadata": {},
   "source": [
    "Specify the number of species n_species and the number of timepoints n_samples in the given dataset:"
   ]
  },
  {
   "cell_type": "code",
   "execution_count": 29,
   "metadata": {},
   "outputs": [],
   "source": [
    "# n_samples = None\n",
    "# n_species = None\n",
    "\n",
    "n_samples = 500\n",
    "n_species = 5\n",
    "\n",
    "# path of data file\n",
    "filename = f\"miaSim_GLV_{n_species}species_fewInteractions.mat\"\n",
    "filepath = \"C:/Users/Maria/Documents/Masterstudium/Masterarbeit/MScThesis/explore/data/01e-timeseries-miaSim/\" + filename\n",
    "\n",
    "# data should be of the form:\n",
    "# [n_samples, (1 + n_species)]\n",
    "# where the first colum contains the time t\n",
    "\n",
    "# order of interactions included in the model (2 or 3)\n",
    "int_order = 2"
   ]
  },
  {
   "cell_type": "code",
   "execution_count": 30,
   "metadata": {},
   "outputs": [],
   "source": [
    "def create_data():\n",
    "  data = loadmat(filepath)\n",
    "  usol = np.real(data[\"ts_glv\"]).astype(\"float32\")\n",
    "  usol = usol.reshape((n_samples, (1 + n_species)))\n",
    "  ts = usol[:, 0]\n",
    "  data_y = usol[:, 1:(1 + n_species)]\n",
    "  T = torch.from_numpy(ts.reshape(-1, 1)).float()\n",
    "  Y = torch.from_numpy(data_y).float()\n",
    "  print(\"The coodinates have shape {}\".format(T.shape))\n",
    "  print(\"The data has shape {}\".format(Y.shape))\n",
    "  return T, Y"
   ]
  },
  {
   "cell_type": "code",
   "execution_count": 31,
   "metadata": {},
   "outputs": [
    {
     "name": "stdout",
     "output_type": "stream",
     "text": [
      "The coodinates have shape torch.Size([500, 1])\n",
      "The data has shape torch.Size([500, 5])\n",
      "Time: tensor([[ 1.],\n",
      "        [ 2.],\n",
      "        [ 3.],\n",
      "        [ 4.],\n",
      "        [ 5.],\n",
      "        [ 6.],\n",
      "        [ 7.],\n",
      "        [ 8.],\n",
      "        [ 9.],\n",
      "        [10.]])\n",
      "Data: tensor([[6.8917e-01, 7.1316e-01, 8.2951e-01, 2.8598e-01, 4.1347e-01],\n",
      "        [2.7026e-04, 1.2696e-01, 1.4958e+00, 4.6428e-01, 2.7923e-01],\n",
      "        [1.6837e-04, 4.0222e-01, 1.6228e+00, 4.0470e-01, 2.6516e-01],\n",
      "        [4.6446e-02, 7.9455e-01, 1.4919e+00, 2.9209e-01, 2.7870e-01],\n",
      "        [2.4235e-01, 2.0995e-01, 1.3252e+00, 2.0275e-01, 2.4734e-01],\n",
      "        [9.0488e-02, 1.7421e-01, 1.2546e+00, 1.7081e-01, 1.8895e-01],\n",
      "        [6.6788e-02, 1.9695e-01, 1.2930e+00, 1.8562e-01, 1.4413e-01],\n",
      "        [7.1399e-02, 2.2229e-01, 1.3947e+00, 2.3313e-01, 1.2683e-01],\n",
      "        [8.6728e-02, 2.5090e-01, 1.4882e+00, 2.8639e-01, 1.3857e-01],\n",
      "        [1.0298e-01, 2.8882e-01, 1.4983e+00, 2.9662e-01, 1.7010e-01]])\n"
     ]
    }
   ],
   "source": [
    "data = create_data()\n",
    "print(\"Time:\", data[0][0:10])\n",
    "print(\"Data:\", data[1][0:10])"
   ]
  },
  {
   "attachments": {},
   "cell_type": "markdown",
   "metadata": {},
   "source": [
    "Then we pass this function to the dataset class, which then adds noise to it, normalizes the coordinates and performs random subsampling to it."
   ]
  },
  {
   "cell_type": "code",
   "execution_count": 32,
   "metadata": {},
   "outputs": [],
   "source": [
    "def custom_normalize(feature):\n",
    "        \"\"\"minmax all features by their absolute maximum\n",
    "        Args:\n",
    "            feature (torch.tensor): data to be minmax normalized\n",
    "        Returns:\n",
    "            (torch.tensor): minmaxed data\"\"\"\n",
    "        return (feature/feature.abs().max(axis=0).values)"
   ]
  },
  {
   "cell_type": "code",
   "execution_count": 33,
   "metadata": {},
   "outputs": [],
   "source": [
    "# # add noise to dataset\n",
    "# dataset = Dataset(\n",
    "#     create_data,\n",
    "#     subsampler=Subsample_random,\n",
    "#     subsampler_kwargs={\"number_of_samples\": 500},\n",
    "#     preprocess_kwargs={\n",
    "#         \"noise_level\": 0.01,\n",
    "#         \"normalize_coords\": False,\n",
    "#         \"normalize_data\": False,\n",
    "#     },\n",
    "#     apply_normalize=custom_normalize,\n",
    "#     device=device\n",
    "# )"
   ]
  },
  {
   "cell_type": "code",
   "execution_count": 34,
   "metadata": {},
   "outputs": [
    {
     "name": "stdout",
     "output_type": "stream",
     "text": [
      "The coodinates have shape torch.Size([500, 1])\n",
      "The data has shape torch.Size([500, 5])\n",
      "Dataset is using device:  cpu\n"
     ]
    }
   ],
   "source": [
    "dataset = Dataset(\n",
    "    create_data,\n",
    "    device = device,\n",
    ")"
   ]
  },
  {
   "attachments": {},
   "cell_type": "markdown",
   "metadata": {},
   "source": [
    "Visualization of the dataset"
   ]
  },
  {
   "cell_type": "code",
   "execution_count": 35,
   "metadata": {},
   "outputs": [
    {
     "data": {
      "text/plain": [
       "Text(0.5, 1.0, 'Sampled and standardized data')"
      ]
     },
     "execution_count": 35,
     "metadata": {},
     "output_type": "execute_result"
    },
    {
     "data": {
      "image/png": "[encoded data removed]",
      "text/plain": [
       "<Figure size 640x480 with 1 Axes>"
      ]
     },
     "metadata": {},
     "output_type": "display_data"
    }
   ],
   "source": [
    "fig, ax = plt.subplots()\n",
    "for i in np.arange(n_species):\n",
    "    # plt.plot(dataset.coords.cpu(), dataset.data[:, i].cpu(), label = f\"Sp{i+1}\")\n",
    "    ax.scatter(dataset.coords.cpu(), dataset.data[:, i].cpu(), label = f\"Sp{i+1}\", s=1)\n",
    "ax.set_xlabel(\"t\")\n",
    "ax.legend()\n",
    "ax.set_title(\"Sampled and standardized data\")\n",
    "# plt.xlim([0,100])"
   ]
  },
  {
   "attachments": {},
   "cell_type": "markdown",
   "metadata": {},
   "source": [
    "Now we need to split our data into a train and test dataloaders for PyTorch"
   ]
  },
  {
   "cell_type": "code",
   "execution_count": 36,
   "metadata": {},
   "outputs": [],
   "source": [
    "train_dataloader, test_dataloader = get_train_test_loader(dataset, train_test_split=0.8)"
   ]
  },
  {
   "attachments": {},
   "cell_type": "markdown",
   "metadata": {},
   "source": [
    "## Configuring DeepMoD\n",
    "\n",
    "Configuration of the function approximator: Here the first argument is the number of input and the last argument the number of output layers."
   ]
  },
  {
   "cell_type": "code",
   "execution_count": 37,
   "metadata": {},
   "outputs": [],
   "source": [
    "network = NN(1, [20, 20, 20, 20, 20], n_species)"
   ]
  },
  {
   "attachments": {},
   "cell_type": "markdown",
   "metadata": {},
   "source": [
    "Configuration of the library function."
   ]
  },
  {
   "cell_type": "code",
   "execution_count": 38,
   "metadata": {},
   "outputs": [],
   "source": [
    "library = libraryODE.LibraryODE(int_order = int_order, intercept = False)"
   ]
  },
  {
   "cell_type": "markdown",
   "metadata": {},
   "source": [
    "Show a list of the expressions contained in the library."
   ]
  },
  {
   "cell_type": "code",
   "execution_count": 39,
   "metadata": {},
   "outputs": [
    {
     "data": {
      "text/plain": [
       "[['x1*1', 'x1*x1', 'x1*x2', 'x1*x3', 'x1*x4', 'x1*x5'],\n",
       " ['x2*1', 'x2*x1', 'x2*x2', 'x2*x3', 'x2*x4', 'x2*x5'],\n",
       " ['x3*1', 'x3*x1', 'x3*x2', 'x3*x3', 'x3*x4', 'x3*x5'],\n",
       " ['x4*1', 'x4*x1', 'x4*x2', 'x4*x3', 'x4*x4', 'x4*x5'],\n",
       " ['x5*1', 'x5*x1', 'x5*x2', 'x5*x3', 'x5*x4', 'x5*x5']]"
      ]
     },
     "execution_count": 39,
     "metadata": {},
     "output_type": "execute_result"
    }
   ],
   "source": [
    "library.get_content(dataset.data)"
   ]
  },
  {
   "attachments": {},
   "cell_type": "markdown",
   "metadata": {},
   "source": [
    "Configuration of the sparsity estimator and sparsity scheduler used. In this case we use the most basic threshold-based Lasso estimator and a scheduler that asseses the validation loss after a given patience. If that value is smaller than 1e-5, the algorithm is converged."
   ]
  },
  {
   "cell_type": "code",
   "execution_count": 40,
   "metadata": {},
   "outputs": [],
   "source": [
    "estimator = Threshold(0.1)\n",
    "sparsity_scheduler = TrainTestPeriodic(periodicity=50, patience=200, delta=1e-5)"
   ]
  },
  {
   "attachments": {},
   "cell_type": "markdown",
   "metadata": {},
   "source": [
    "Configuration of the sparsity estimator"
   ]
  },
  {
   "cell_type": "code",
   "execution_count": 41,
   "metadata": {},
   "outputs": [],
   "source": [
    "constraint = LeastSquares()"
   ]
  },
  {
   "attachments": {},
   "cell_type": "markdown",
   "metadata": {},
   "source": [
    "Now we instantiate the model and select the optimizer"
   ]
  },
  {
   "cell_type": "code",
   "execution_count": 42,
   "metadata": {},
   "outputs": [],
   "source": [
    "model = DeepMoD(network, library, estimator, constraint)# .to(device)"
   ]
  },
  {
   "attachments": {},
   "cell_type": "markdown",
   "metadata": {},
   "source": [
    "Defining optimizer"
   ]
  },
  {
   "cell_type": "code",
   "execution_count": 43,
   "metadata": {},
   "outputs": [],
   "source": [
    "optimizer = torch.optim.Adam(\n",
    "    model.parameters(), betas=(0.99, 0.99), amsgrad=True, lr=5e-3\n",
    ")"
   ]
  },
  {
   "attachments": {},
   "cell_type": "markdown",
   "metadata": {},
   "source": [
    "## Run DeepMoD\n",
    "\n",
    "We can now run DeepMoD using all the options we have set and the training data. We need to slightly preprocess the input data for the derivatives:"
   ]
  },
  {
   "cell_type": "code",
   "execution_count": 44,
   "metadata": {},
   "outputs": [
    {
     "name": "stdout",
     "output_type": "stream",
     "text": [
      " 49975  MSE: 1.38e-04  Reg: 3.43e-06  L1: 3.47e+02 Algorithm converged. Writing model to disk.\n"
     ]
    }
   ],
   "source": [
    "train(\n",
    "    model,\n",
    "    train_dataloader,\n",
    "    test_dataloader,\n",
    "    optimizer,\n",
    "    sparsity_scheduler,\n",
    "    # log_dir='runs/coupled/',\n",
    "    log_dir=\"/data/deepymod/ODE_S4/\",\n",
    "    max_iterations=50000,\n",
    "    delta=1e-3,\n",
    "    patience=100,\n",
    ")"
   ]
  },
  {
   "attachments": {},
   "cell_type": "markdown",
   "metadata": {},
   "source": [
    "Now that DeepMoD has converged, it has found the following coefficients to not be zero:"
   ]
  },
  {
   "cell_type": "code",
   "execution_count": 45,
   "metadata": {},
   "outputs": [
    {
     "data": {
      "text/plain": [
       "[tensor([False, False,  True,  True,  True, False]),\n",
       " tensor([True, True, True, True, True, True]),\n",
       " tensor([True, True, True, True, True, True]),\n",
       " tensor([ True,  True,  True, False,  True,  True]),\n",
       " tensor([ True,  True, False,  True,  True,  True])]"
      ]
     },
     "execution_count": 45,
     "metadata": {},
     "output_type": "execute_result"
    }
   ],
   "source": [
    "model.sparsity_masks"
   ]
  },
  {
   "attachments": {},
   "cell_type": "markdown",
   "metadata": {},
   "source": [
    "And it found the following coefficients."
   ]
  },
  {
   "cell_type": "code",
   "execution_count": 46,
   "metadata": {},
   "outputs": [
    {
     "data": {
      "text/plain": [
       "[array([[ 0.       ],\n",
       "        [ 0.       ],\n",
       "        [ 2.0330348],\n",
       "        [-0.5287311],\n",
       "        [-1.0168759],\n",
       "        [ 0.       ]], dtype=float32),\n",
       " array([[-0.55704784],\n",
       "        [-1.3695847 ],\n",
       "        [-1.3449147 ],\n",
       "        [ 0.4607573 ],\n",
       "        [ 1.7536622 ],\n",
       "        [ 0.5730426 ]], dtype=float32),\n",
       " array([[ 1.9042884 ],\n",
       "        [-1.7579585 ],\n",
       "        [-6.884353  ],\n",
       "        [ 8.175694  ],\n",
       "        [-1.0940689 ],\n",
       "        [-0.48705623]], dtype=float32),\n",
       " array([[ 0.84904134],\n",
       "        [ 2.2087457 ],\n",
       "        [-0.77739793],\n",
       "        [ 0.        ],\n",
       "        [ 0.24606295],\n",
       "        [-2.2063575 ]], dtype=float32),\n",
       " array([[ 0.3920832],\n",
       "        [-0.7869005],\n",
       "        [ 0.       ],\n",
       "        [ 0.6209177],\n",
       "        [ 1.4187704],\n",
       "        [-2.151484 ]], dtype=float32)]"
      ]
     },
     "execution_count": 46,
     "metadata": {},
     "output_type": "execute_result"
    }
   ],
   "source": [
    "model.estimator_coeffs()"
   ]
  },
  {
   "attachments": {},
   "cell_type": "markdown",
   "metadata": {},
   "source": [
    "## Analysis/Visualization of the train() loss"
   ]
  },
  {
   "cell_type": "code",
   "execution_count": 47,
   "metadata": {},
   "outputs": [],
   "source": [
    "import os\n",
    "from tensorflow.python.summary.summary_iterator import summary_iterator"
   ]
  },
  {
   "cell_type": "code",
   "execution_count": 48,
   "metadata": {},
   "outputs": [],
   "source": [
    "# get list of all output values that were calculated during train()\n",
    "# os.listdir(\"/data/deepymod/ODE_S4/\")"
   ]
  },
  {
   "cell_type": "code",
   "execution_count": 49,
   "metadata": {},
   "outputs": [],
   "source": [
    "tmp_file = os.listdir(\"/data/deepymod/ODE_S4/loss_mse_output_0/\")[-1]\n",
    "file_dir = \"/data/deepymod/ODE_S4/loss_mse_output_0/\" + tmp_file\n",
    "\n",
    "train_loss = np.array([])\n",
    "i = 0\n",
    "\n",
    "for summary in summary_iterator(file_dir):\n",
    "    for value in summary.summary.value:\n",
    "        # Extract relevant information from the event\n",
    "        mse = value.simple_value\n",
    "        train_loss = np.append(train_loss, mse)\n",
    "        i += 1\n",
    "\n",
    "# train_loss"
   ]
  },
  {
   "cell_type": "code",
   "execution_count": 50,
   "metadata": {},
   "outputs": [],
   "source": [
    "tmp_file = os.listdir(\"/data/deepymod/ODE_S4/remaining_MSE_test_val_0/\")[-1]\n",
    "file_dir = \"/data/deepymod/ODE_S4/remaining_MSE_test_val_0/\" + tmp_file\n",
    "\n",
    "test_loss = np.array([])\n",
    "i = 0\n",
    "\n",
    "for summary in summary_iterator(file_dir):\n",
    "    for value in summary.summary.value:\n",
    "        # Extract relevant information from the event\n",
    "        mse = value.simple_value\n",
    "        test_loss = np.append(test_loss, mse)\n",
    "        i += 1\n",
    "\n",
    "# test_loss"
   ]
  },
  {
   "cell_type": "code",
   "execution_count": 51,
   "metadata": {},
   "outputs": [],
   "source": [
    "tmp_file = os.listdir(\"/data/deepymod/ODE_S4/loss_l1_output_0/\")[-1]\n",
    "file_dir = \"/data/deepymod/ODE_S4/loss_l1_output_0/\" + tmp_file\n",
    "\n",
    "l1_loss = np.array([])\n",
    "i = 0\n",
    "\n",
    "for summary in summary_iterator(file_dir):\n",
    "    for value in summary.summary.value:\n",
    "        # Extract relevant information from the event\n",
    "        mse = value.simple_value\n",
    "        l1_loss = np.append(l1_loss, mse)\n",
    "        i += 1\n",
    "\n",
    "# l1_loss"
   ]
  },
  {
   "cell_type": "code",
   "execution_count": 52,
   "metadata": {},
   "outputs": [],
   "source": [
    "tmp_file = os.listdir(\"/data/deepymod/ODE_S4/loss_reg_output_0/\")[-1]\n",
    "file_dir = \"/data/deepymod/ODE_S4/loss_reg_output_0/\" + tmp_file\n",
    "\n",
    "reg_loss = np.array([])\n",
    "i = 0\n",
    "\n",
    "for summary in summary_iterator(file_dir):\n",
    "    for value in summary.summary.value:\n",
    "        # Extract relevant information from the event\n",
    "        mse = value.simple_value\n",
    "        reg_loss = np.append(reg_loss, mse)\n",
    "        i += 1\n",
    "\n",
    "# reg_loss"
   ]
  },
  {
   "cell_type": "code",
   "execution_count": 53,
   "metadata": {},
   "outputs": [
    {
     "data": {
      "text/plain": [
       "<matplotlib.legend.Legend at 0x244b3d64d30>"
      ]
     },
     "execution_count": 53,
     "metadata": {},
     "output_type": "execute_result"
    },
    {
     "data": {
      "image/png": "[encoded data removed]",
      "text/plain": [
       "<Figure size 640x480 with 1 Axes>"
      ]
     },
     "metadata": {},
     "output_type": "display_data"
    }
   ],
   "source": [
    "fig, ax = plt.subplots()\n",
    "ax.plot(train_loss, c='#002635', marker='o', label='Train loss')\n",
    "ax.plot(test_loss, c='red', marker='o', ls='--', alpha=0.6, label='Test loss')\n",
    "# ax.plot(reg_loss, c='gray', marker='o', ls='--', alpha=0.6, label='Reg loss')\n",
    "# ax.plot(l1_loss, c='darkgray', marker='o', ls='--', alpha=0.6, label='L1 loss')\n",
    "ax.set_yscale('log')\n",
    "ax.set_xlabel('Iteration')\n",
    "ax.legend()\n",
    "# plt.xlim([0, 500])"
   ]
  }
 ],
 "metadata": {
  "kernelspec": {
   "display_name": "DeePyMoD",
   "language": "python",
   "name": "python3"
  },
  "language_info": {
   "codemirror_mode": {
    "name": "ipython",
    "version": 3
   },
   "file_extension": ".py",
   "mimetype": "text/x-python",
   "name": "python",
   "nbconvert_exporter": "python",
   "pygments_lexer": "ipython3",
   "version": "3.8.16"
  },
  "orig_nbformat": 4
 },
 "nbformat": 4,
 "nbformat_minor": 2
}
