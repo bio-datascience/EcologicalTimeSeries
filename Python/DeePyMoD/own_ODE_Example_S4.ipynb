{
 "cells": [
  {
   "attachments": {},
   "cell_type": "markdown",
   "metadata": {},
   "source": [
    "DeePyMoD ODE Example"
   ]
  },
  {
   "cell_type": "code",
   "execution_count": 1,
   "metadata": {},
   "outputs": [
    {
     "name": "stdout",
     "output_type": "stream",
     "text": [
      "cpu\n"
     ]
    }
   ],
   "source": [
    "# General imports\n",
    "import numpy as np\n",
    "import torch\n",
    "import matplotlib.pylab as plt\n",
    "\n",
    "# DeepMoD functions\n",
    "\n",
    "from deepymod import DeepMoD\n",
    "from deepymod.data import Dataset, get_train_test_loader\n",
    "from deepymod.data.samples import Subsample_random\n",
    "from deepymod.model.func_approx import NN\n",
    "from deepymod.model.constraint import LeastSquares\n",
    "from deepymod.model.sparse_estimators import Threshold, PDEFIND\n",
    "from deepymod.training import train\n",
    "from deepymod.training.sparsity_scheduler import TrainTestPeriodic\n",
    "from scipy.io import loadmat\n",
    "\n",
    "\n",
    "import torch\n",
    "# from torch.autograd import grad\n",
    "# from itertools import combinations\n",
    "# from functools import reduce\n",
    "# from typing import Tuple\n",
    "# from deepymod.utils.types import TensorList\n",
    "# from deepymod.model.library import Library\n",
    "import libraryODE\n",
    "\n",
    "from scipy.integrate import odeint\n",
    "\n",
    "# Settings for reproducibility\n",
    "np.random.seed(30)\n",
    "torch.manual_seed(0)\n",
    "\n",
    "# Configuring GPU or CPU\n",
    "if False: #torch.cuda.is_available():\n",
    "    device = \"cuda\"\n",
    "else:\n",
    "    device = \"cpu\"\n",
    "print(device)"
   ]
  },
  {
   "attachments": {},
   "cell_type": "markdown",
   "metadata": {},
   "source": [
    "# Preparing a new dataset\n",
    "Firstly we prepare the dataset.\n",
    "Therfore we load the time series from .mat file and transform it into a Dataset object."
   ]
  },
  {
   "attachments": {},
   "cell_type": "markdown",
   "metadata": {},
   "source": [
    "### Simulated with miaSim\n",
    "\n",
    "Interaction matrix \n",
    "$A = \\begin{pmatrix}\n",
    "-0.5 & 30 & 0 & 0\\\\\n",
    "-15 & -0.5 & 0 | 3 & 0 \\\\\n",
    "0 & 0 & -0.5 & 20\\\\\n",
    "0 & 0 & -10 & -0.5\n",
    "\\end{pmatrix}$\n",
    "\n",
    "and growth rates:\n",
    "$ b = (2/3, -1, 0.7, -3)$"
   ]
  },
  {
   "attachments": {},
   "cell_type": "markdown",
   "metadata": {},
   "source": [
    "Specify the number of species n_species and the number of timepoints n_samples in the given dataset:"
   ]
  },
  {
   "cell_type": "code",
   "execution_count": 2,
   "metadata": {},
   "outputs": [],
   "source": [
    "# n_samples = None\n",
    "# n_species = None\n",
    "\n",
    "n_samples = 500\n",
    "n_species = 4\n",
    "\n",
    "# path of data file\n",
    "filename = f\"miaSim_GLV_{n_species}species_oscillating_zero.mat\"\n",
    "# filename = f\"miaSim_GLV_{n_species}species_oscillating_three.mat\"\n",
    "filepath = \"C:/Users/Maria/Documents/Masterstudium/Masterarbeit/MScThesis/explore/data/01e-timeseries-miaSim/\" + filename\n",
    "\n",
    "# data should be of the form:\n",
    "# [n_samples, (1 + n_species)]\n",
    "# where the first colum contains the time t\n",
    "\n",
    "# order of interactions included in the model (2 or 3)\n",
    "int_order = 2"
   ]
  },
  {
   "cell_type": "code",
   "execution_count": 3,
   "metadata": {},
   "outputs": [],
   "source": [
    "def create_data():\n",
    "  data = loadmat(filepath)\n",
    "  usol = np.real(data[\"ts_glv\"]).astype(\"float32\")\n",
    "  usol = usol.reshape((n_samples, (1 + n_species)))\n",
    "  ts = usol[:, 0]\n",
    "  data_y = usol[:, 1:(1 + n_species)]\n",
    "  T = torch.from_numpy(ts.reshape(-1, 1)).float()\n",
    "  Y = torch.from_numpy(data_y).float()\n",
    "  print(\"The coodinates have shape {}\".format(T.shape))\n",
    "  print(\"The data has shape {}\".format(Y.shape))\n",
    "  return T, Y"
   ]
  },
  {
   "cell_type": "code",
   "execution_count": 4,
   "metadata": {},
   "outputs": [
    {
     "name": "stdout",
     "output_type": "stream",
     "text": [
      "The coodinates have shape torch.Size([500, 1])\n",
      "The data has shape torch.Size([500, 4])\n",
      "Time: tensor([[ 1.],\n",
      "        [ 2.],\n",
      "        [ 3.],\n",
      "        [ 4.],\n",
      "        [ 5.],\n",
      "        [ 6.],\n",
      "        [ 7.],\n",
      "        [ 8.],\n",
      "        [ 9.],\n",
      "        [10.]])\n",
      "Data: tensor([[0.0818, 0.1822, 0.7035, 0.4503],\n",
      "        [0.0678, 0.0997, 0.4374, 0.9899],\n",
      "        [0.0866, 0.0564, 0.0858, 1.2470],\n",
      "        [0.1325, 0.0484, 0.0480, 0.7218],\n",
      "        [0.1806, 0.0835, 0.0929, 0.5132],\n",
      "        [0.1402, 0.1549, 0.1627, 0.6575],\n",
      "        [0.0927, 0.1194, 0.1155, 0.7941],\n",
      "        [0.1014, 0.0733, 0.1001, 0.6788],\n",
      "        [0.1393, 0.0693, 0.1217, 0.6551],\n",
      "        [0.1550, 0.1092, 0.1243, 0.7112]])\n"
     ]
    }
   ],
   "source": [
    "data = create_data()\n",
    "print(\"Time:\", data[0][0:10])\n",
    "print(\"Data:\", data[1][0:10])"
   ]
  },
  {
   "attachments": {},
   "cell_type": "markdown",
   "metadata": {},
   "source": [
    "Then we pass this function to the dataset class, which then adds noise to it, normalizes the coordinates and performs random subsampling to it."
   ]
  },
  {
   "cell_type": "code",
   "execution_count": 5,
   "metadata": {},
   "outputs": [],
   "source": [
    "def custom_normalize(feature):\n",
    "        \"\"\"minmax all features by their absolute maximum\n",
    "        Args:\n",
    "            feature (torch.tensor): data to be minmax normalized\n",
    "        Returns:\n",
    "            (torch.tensor): minmaxed data\"\"\"\n",
    "        return (feature/feature.abs().max(axis=0).values)"
   ]
  },
  {
   "cell_type": "code",
   "execution_count": 6,
   "metadata": {},
   "outputs": [],
   "source": [
    "# # add noise to dataset\n",
    "# dataset = Dataset(\n",
    "#     create_data,\n",
    "#     subsampler=Subsample_random,\n",
    "#     subsampler_kwargs={\"number_of_samples\": 500},\n",
    "#     preprocess_kwargs={\n",
    "#         \"noise_level\": 0.01,\n",
    "#         \"normalize_coords\": False,\n",
    "#         \"normalize_data\": False,\n",
    "#     },\n",
    "#     apply_normalize=custom_normalize,\n",
    "#     device=device\n",
    "# )"
   ]
  },
  {
   "cell_type": "code",
   "execution_count": 7,
   "metadata": {},
   "outputs": [
    {
     "name": "stdout",
     "output_type": "stream",
     "text": [
      "The coodinates have shape torch.Size([500, 1])\n",
      "The data has shape torch.Size([500, 4])\n",
      "Dataset is using device:  cpu\n"
     ]
    }
   ],
   "source": [
    "dataset = Dataset(\n",
    "    create_data,\n",
    "    device = device,\n",
    ")"
   ]
  },
  {
   "attachments": {},
   "cell_type": "markdown",
   "metadata": {},
   "source": [
    "Visualization of the dataset"
   ]
  },
  {
   "cell_type": "code",
   "execution_count": 8,
   "metadata": {},
   "outputs": [
    {
     "data": {
      "text/plain": [
       "Text(0.5, 1.0, 'Sampled and standardized data')"
      ]
     },
     "execution_count": 8,
     "metadata": {},
     "output_type": "execute_result"
    },
    {
     "data": {
      "image/png": "[encoded data removed]",
      "text/plain": [
       "<Figure size 640x480 with 1 Axes>"
      ]
     },
     "metadata": {},
     "output_type": "display_data"
    }
   ],
   "source": [
    "fig, ax = plt.subplots()\n",
    "for i in np.arange(n_species):\n",
    "    # plt.plot(dataset.coords.cpu(), dataset.data[:, i].cpu(), label = f\"Sp{i+1}\")\n",
    "    ax.scatter(dataset.coords.cpu(), dataset.data[:, i].cpu(), label = f\"Sp{i+1}\", s=1)\n",
    "ax.set_xlabel(\"t\")\n",
    "ax.legend()\n",
    "# ax.set_title(\"Sampled and standardized data\")\n",
    "# plt.xlim([0,100])"
   ]
  },
  {
   "attachments": {},
   "cell_type": "markdown",
   "metadata": {},
   "source": [
    "Now we need to split our data into a train and test dataloaders for PyTorch"
   ]
  },
  {
   "cell_type": "code",
   "execution_count": 9,
   "metadata": {},
   "outputs": [],
   "source": [
    "train_dataloader, test_dataloader = get_train_test_loader(dataset, train_test_split=0.8)"
   ]
  },
  {
   "attachments": {},
   "cell_type": "markdown",
   "metadata": {},
   "source": [
    "## Configuring DeepMoD\n",
    "\n",
    "Configuration of the function approximator: Here the first argument is the number of input and the last argument the number of output layers."
   ]
  },
  {
   "cell_type": "code",
   "execution_count": 10,
   "metadata": {},
   "outputs": [],
   "source": [
    "network = NN(1, [20, 20, 20, 20], n_species)"
   ]
  },
  {
   "attachments": {},
   "cell_type": "markdown",
   "metadata": {},
   "source": [
    "Configuration of the library function."
   ]
  },
  {
   "cell_type": "code",
   "execution_count": 11,
   "metadata": {},
   "outputs": [],
   "source": [
    "library = libraryODE.LibraryODE(int_order = int_order, intercept = False)"
   ]
  },
  {
   "cell_type": "markdown",
   "metadata": {},
   "source": [
    "Show a list of the expressions contained in the library."
   ]
  },
  {
   "cell_type": "code",
   "execution_count": 12,
   "metadata": {},
   "outputs": [
    {
     "data": {
      "text/plain": [
       "[['x1*1', 'x1*x1', 'x1*x2', 'x1*x3', 'x1*x4'],\n",
       " ['x2*1', 'x2*x1', 'x2*x2', 'x2*x3', 'x2*x4'],\n",
       " ['x3*1', 'x3*x1', 'x3*x2', 'x3*x3', 'x3*x4'],\n",
       " ['x4*1', 'x4*x1', 'x4*x2', 'x4*x3', 'x4*x4']]"
      ]
     },
     "execution_count": 12,
     "metadata": {},
     "output_type": "execute_result"
    }
   ],
   "source": [
    "# get a list of coefficients contained in the library\n",
    "library_values = library.get_content(dataset.data)\n",
    "\n",
    "# number of coefficients per taxon\n",
    "n_coefs = len(library_values[0])\n",
    "\n",
    "# print the list\n",
    "library_values"
   ]
  },
  {
   "attachments": {},
   "cell_type": "markdown",
   "metadata": {},
   "source": [
    "Configuration of the sparsity estimator and sparsity scheduler used. In this case we use the most basic threshold-based Lasso estimator and a scheduler that asseses the validation loss after a given patience. If that value is smaller than 1e-5, the algorithm is converged."
   ]
  },
  {
   "cell_type": "code",
   "execution_count": 13,
   "metadata": {},
   "outputs": [],
   "source": [
    "estimator = Threshold(0.1)\n",
    "sparsity_scheduler = TrainTestPeriodic(periodicity=50, patience=200, delta=1e-5)"
   ]
  },
  {
   "attachments": {},
   "cell_type": "markdown",
   "metadata": {},
   "source": [
    "Configuration of the sparsity estimator"
   ]
  },
  {
   "cell_type": "code",
   "execution_count": 14,
   "metadata": {},
   "outputs": [],
   "source": [
    "constraint = LeastSquares()"
   ]
  },
  {
   "attachments": {},
   "cell_type": "markdown",
   "metadata": {},
   "source": [
    "Now we instantiate the model and select the optimizer"
   ]
  },
  {
   "cell_type": "code",
   "execution_count": 15,
   "metadata": {},
   "outputs": [],
   "source": [
    "model = DeepMoD(network, library, estimator, constraint)# .to(device)"
   ]
  },
  {
   "attachments": {},
   "cell_type": "markdown",
   "metadata": {},
   "source": [
    "Defining optimizer"
   ]
  },
  {
   "cell_type": "code",
   "execution_count": 16,
   "metadata": {},
   "outputs": [],
   "source": [
    "optimizer = torch.optim.Adam(\n",
    "    model.parameters(), betas=(0.99, 0.99), amsgrad=True, lr=5e-3\n",
    ")"
   ]
  },
  {
   "attachments": {},
   "cell_type": "markdown",
   "metadata": {},
   "source": [
    "## Run DeepMoD\n",
    "\n",
    "We can now run DeepMoD using all the options we have set and the training data. We need to slightly preprocess the input data for the derivatives:"
   ]
  },
  {
   "cell_type": "code",
   "execution_count": 17,
   "metadata": {},
   "outputs": [
    {
     "name": "stdout",
     "output_type": "stream",
     "text": [
      "     0  MSE: 9.37e-01  Reg: 1.50e-06  L1: 3.36e+03 "
     ]
    },
    {
     "name": "stdout",
     "output_type": "stream",
     "text": [
      " 49975  MSE: 2.17e-05  Reg: 2.35e-06  L1: 1.54e+02 Algorithm converged. Writing model to disk.\n"
     ]
    }
   ],
   "source": [
    "train(\n",
    "    model,\n",
    "    train_dataloader,\n",
    "    test_dataloader,\n",
    "    optimizer,\n",
    "    sparsity_scheduler,\n",
    "    # log_dir='runs/coupled/',\n",
    "    log_dir=\"/data/deepymod/ODE_S4/\",\n",
    "    max_iterations=50000,\n",
    "    delta=1e-3,\n",
    "    patience=100,\n",
    ")"
   ]
  },
  {
   "attachments": {},
   "cell_type": "markdown",
   "metadata": {},
   "source": [
    "Now that DeepMoD has converged, it has found the following coefficients to not be zero:"
   ]
  },
  {
   "cell_type": "code",
   "execution_count": 18,
   "metadata": {},
   "outputs": [
    {
     "data": {
      "text/plain": [
       "[tensor([False, False,  True,  True,  True]),\n",
       " tensor([True, True, True, True, True]),\n",
       " tensor([True, True, True, True, True]),\n",
       " tensor([True, True, True, True, True])]"
      ]
     },
     "execution_count": 18,
     "metadata": {},
     "output_type": "execute_result"
    }
   ],
   "source": [
    "model.sparsity_masks"
   ]
  },
  {
   "attachments": {},
   "cell_type": "markdown",
   "metadata": {},
   "source": [
    "And it found the following coefficients."
   ]
  },
  {
   "cell_type": "code",
   "execution_count": 19,
   "metadata": {},
   "outputs": [
    {
     "data": {
      "text/plain": [
       "[array([[  0.        ],\n",
       "        [  0.        ],\n",
       "        [-11.361702  ],\n",
       "        [ -0.80143523],\n",
       "        [ 12.186423  ]], dtype=float32),\n",
       " array([[ 5.6491637],\n",
       "        [ 3.366551 ],\n",
       "        [-0.33025  ],\n",
       "        [-2.2465336],\n",
       "        [-6.7468495]], dtype=float32),\n",
       " array([[ 3.2068536],\n",
       "        [ 2.1153564],\n",
       "        [ 0.4522244],\n",
       "        [-1.2544384],\n",
       "        [-5.168299 ]], dtype=float32),\n",
       " array([[-0.88284016],\n",
       "        [-1.0768805 ],\n",
       "        [ 3.687924  ],\n",
       "        [ 3.2094407 ],\n",
       "        [-4.861128  ]], dtype=float32)]"
      ]
     },
     "execution_count": 19,
     "metadata": {},
     "output_type": "execute_result"
    }
   ],
   "source": [
    "model.estimator_coeffs()"
   ]
  },
  {
   "attachments": {},
   "cell_type": "markdown",
   "metadata": {},
   "source": [
    "## Analysis/Visualization of the train() loss"
   ]
  },
  {
   "cell_type": "code",
   "execution_count": 20,
   "metadata": {},
   "outputs": [],
   "source": [
    "import os\n",
    "from tensorflow.python.summary.summary_iterator import summary_iterator"
   ]
  },
  {
   "cell_type": "code",
   "execution_count": 21,
   "metadata": {},
   "outputs": [
    {
     "data": {
      "text/plain": [
       "['checkpoint.pt',\n",
       " 'coeffs_output_0_coeff_0',\n",
       " 'coeffs_output_0_coeff_1',\n",
       " 'coeffs_output_0_coeff_2',\n",
       " 'coeffs_output_0_coeff_3',\n",
       " 'coeffs_output_0_coeff_4',\n",
       " 'coeffs_output_0_coeff_5',\n",
       " 'coeffs_output_0_coeff_6',\n",
       " 'coeffs_output_0_coeff_7',\n",
       " 'coeffs_output_0_coeff_8',\n",
       " 'coeffs_output_0_coeff_9',\n",
       " 'coeffs_output_1_coeff_0',\n",
       " 'coeffs_output_1_coeff_1',\n",
       " 'coeffs_output_1_coeff_2',\n",
       " 'coeffs_output_1_coeff_3',\n",
       " 'coeffs_output_1_coeff_4',\n",
       " 'coeffs_output_1_coeff_5',\n",
       " 'coeffs_output_1_coeff_6',\n",
       " 'coeffs_output_1_coeff_7',\n",
       " 'coeffs_output_1_coeff_8',\n",
       " 'coeffs_output_1_coeff_9',\n",
       " 'coeffs_output_2_coeff_0',\n",
       " 'coeffs_output_2_coeff_1',\n",
       " 'coeffs_output_2_coeff_2',\n",
       " 'coeffs_output_2_coeff_3',\n",
       " 'coeffs_output_2_coeff_4',\n",
       " 'coeffs_output_2_coeff_5',\n",
       " 'coeffs_output_2_coeff_6',\n",
       " 'coeffs_output_2_coeff_7',\n",
       " 'coeffs_output_2_coeff_8',\n",
       " 'coeffs_output_2_coeff_9',\n",
       " 'coeffs_output_3_coeff_0',\n",
       " 'coeffs_output_3_coeff_1',\n",
       " 'coeffs_output_3_coeff_2',\n",
       " 'coeffs_output_3_coeff_3',\n",
       " 'coeffs_output_3_coeff_4',\n",
       " 'coeffs_output_3_coeff_5',\n",
       " 'coeffs_output_4_coeff_0',\n",
       " 'coeffs_output_4_coeff_1',\n",
       " 'coeffs_output_4_coeff_2',\n",
       " 'coeffs_output_4_coeff_3',\n",
       " 'coeffs_output_4_coeff_4',\n",
       " 'coeffs_output_4_coeff_5',\n",
       " 'estimator_coeffs_output_0_coeff_0',\n",
       " 'estimator_coeffs_output_0_coeff_1',\n",
       " 'estimator_coeffs_output_0_coeff_2',\n",
       " 'estimator_coeffs_output_0_coeff_3',\n",
       " 'estimator_coeffs_output_0_coeff_4',\n",
       " 'estimator_coeffs_output_0_coeff_5',\n",
       " 'estimator_coeffs_output_0_coeff_6',\n",
       " 'estimator_coeffs_output_0_coeff_7',\n",
       " 'estimator_coeffs_output_0_coeff_8',\n",
       " 'estimator_coeffs_output_0_coeff_9',\n",
       " 'estimator_coeffs_output_1_coeff_0',\n",
       " 'estimator_coeffs_output_1_coeff_1',\n",
       " 'estimator_coeffs_output_1_coeff_2',\n",
       " 'estimator_coeffs_output_1_coeff_3',\n",
       " 'estimator_coeffs_output_1_coeff_4',\n",
       " 'estimator_coeffs_output_1_coeff_5',\n",
       " 'estimator_coeffs_output_1_coeff_6',\n",
       " 'estimator_coeffs_output_1_coeff_7',\n",
       " 'estimator_coeffs_output_1_coeff_8',\n",
       " 'estimator_coeffs_output_1_coeff_9',\n",
       " 'estimator_coeffs_output_2_coeff_0',\n",
       " 'estimator_coeffs_output_2_coeff_1',\n",
       " 'estimator_coeffs_output_2_coeff_2',\n",
       " 'estimator_coeffs_output_2_coeff_3',\n",
       " 'estimator_coeffs_output_2_coeff_4',\n",
       " 'estimator_coeffs_output_2_coeff_5',\n",
       " 'estimator_coeffs_output_2_coeff_6',\n",
       " 'estimator_coeffs_output_2_coeff_7',\n",
       " 'estimator_coeffs_output_2_coeff_8',\n",
       " 'estimator_coeffs_output_2_coeff_9',\n",
       " 'estimator_coeffs_output_3_coeff_0',\n",
       " 'estimator_coeffs_output_3_coeff_1',\n",
       " 'estimator_coeffs_output_3_coeff_2',\n",
       " 'estimator_coeffs_output_3_coeff_3',\n",
       " 'estimator_coeffs_output_3_coeff_4',\n",
       " 'estimator_coeffs_output_3_coeff_5',\n",
       " 'estimator_coeffs_output_4_coeff_0',\n",
       " 'estimator_coeffs_output_4_coeff_1',\n",
       " 'estimator_coeffs_output_4_coeff_2',\n",
       " 'estimator_coeffs_output_4_coeff_3',\n",
       " 'estimator_coeffs_output_4_coeff_4',\n",
       " 'estimator_coeffs_output_4_coeff_5',\n",
       " 'events.out.tfevents.1688651195.DESKTOP-18PV4TH.29028.77',\n",
       " 'events.out.tfevents.1688651532.DESKTOP-18PV4TH.29028.154',\n",
       " 'events.out.tfevents.1688653107.DESKTOP-18PV4TH.30332.0',\n",
       " 'events.out.tfevents.1688653395.DESKTOP-18PV4TH.30332.77',\n",
       " 'events.out.tfevents.1688653650.DESKTOP-18PV4TH.28304.0',\n",
       " 'events.out.tfevents.1688982689.DESKTOP-18PV4TH.16052.0',\n",
       " 'events.out.tfevents.1688990795.DESKTOP-18PV4TH.30876.0',\n",
       " 'events.out.tfevents.1688991490.DESKTOP-18PV4TH.34604.0',\n",
       " 'events.out.tfevents.1688991576.DESKTOP-18PV4TH.34604.77',\n",
       " 'events.out.tfevents.1688992490.DESKTOP-18PV4TH.28632.0',\n",
       " 'events.out.tfevents.1688992900.DESKTOP-18PV4TH.11256.0',\n",
       " 'events.out.tfevents.1688992927.DESKTOP-18PV4TH.11256.1',\n",
       " 'events.out.tfevents.1689000230.DESKTOP-18PV4TH.36840.0',\n",
       " 'events.out.tfevents.1689060142.DESKTOP-18PV4TH.7496.0',\n",
       " 'events.out.tfevents.1689082488.DESKTOP-18PV4TH.11872.0',\n",
       " 'events.out.tfevents.1689083913.DESKTOP-18PV4TH.4348.0',\n",
       " 'events.out.tfevents.1689084449.DESKTOP-18PV4TH.12904.0',\n",
       " 'events.out.tfevents.1689148234.DESKTOP-18PV4TH.37764.0',\n",
       " 'events.out.tfevents.1689148366.DESKTOP-18PV4TH.20012.0',\n",
       " 'events.out.tfevents.1689153160.DESKTOP-18PV4TH.26400.0',\n",
       " 'events.out.tfevents.1689154649.DESKTOP-18PV4TH.26400.77',\n",
       " 'events.out.tfevents.1689161897.DESKTOP-18PV4TH.22844.0',\n",
       " 'events.out.tfevents.1689165610.DESKTOP-18PV4TH.22844.77',\n",
       " 'events.out.tfevents.1689165714.DESKTOP-18PV4TH.8908.0',\n",
       " 'events.out.tfevents.1689171118.DESKTOP-18PV4TH.8908.111',\n",
       " 'events.out.tfevents.1689175002.DESKTOP-18PV4TH.28396.0',\n",
       " 'events.out.tfevents.1689179909.DESKTOP-18PV4TH.32016.0',\n",
       " 'events.out.tfevents.1689187695.DESKTOP-18PV4TH.32016.103',\n",
       " 'events.out.tfevents.1689188317.DESKTOP-18PV4TH.27952.0',\n",
       " 'events.out.tfevents.1689190242.DESKTOP-18PV4TH.3528.0',\n",
       " 'events.out.tfevents.1689190621.DESKTOP-18PV4TH.23556.0',\n",
       " 'loss_l1_output_0',\n",
       " 'loss_l1_output_1',\n",
       " 'loss_l1_output_2',\n",
       " 'loss_l1_output_3',\n",
       " 'loss_l1_output_4',\n",
       " 'loss_mse_output_0',\n",
       " 'loss_mse_output_1',\n",
       " 'loss_mse_output_2',\n",
       " 'loss_mse_output_3',\n",
       " 'loss_mse_output_4',\n",
       " 'loss_reg_output_0',\n",
       " 'loss_reg_output_1',\n",
       " 'loss_reg_output_2',\n",
       " 'loss_reg_output_3',\n",
       " 'loss_reg_output_4',\n",
       " 'model.pt',\n",
       " 'remaining_MSE_test_val_0',\n",
       " 'remaining_MSE_test_val_1',\n",
       " 'remaining_MSE_test_val_2',\n",
       " 'remaining_MSE_test_val_3',\n",
       " 'remaining_MSE_test_val_4',\n",
       " 'unscaled_coeffs_output_0_coeff_0',\n",
       " 'unscaled_coeffs_output_0_coeff_1',\n",
       " 'unscaled_coeffs_output_0_coeff_2',\n",
       " 'unscaled_coeffs_output_0_coeff_3',\n",
       " 'unscaled_coeffs_output_0_coeff_4',\n",
       " 'unscaled_coeffs_output_0_coeff_5',\n",
       " 'unscaled_coeffs_output_0_coeff_6',\n",
       " 'unscaled_coeffs_output_0_coeff_7',\n",
       " 'unscaled_coeffs_output_0_coeff_8',\n",
       " 'unscaled_coeffs_output_0_coeff_9',\n",
       " 'unscaled_coeffs_output_1_coeff_0',\n",
       " 'unscaled_coeffs_output_1_coeff_1',\n",
       " 'unscaled_coeffs_output_1_coeff_2',\n",
       " 'unscaled_coeffs_output_1_coeff_3',\n",
       " 'unscaled_coeffs_output_1_coeff_4',\n",
       " 'unscaled_coeffs_output_1_coeff_5',\n",
       " 'unscaled_coeffs_output_1_coeff_6',\n",
       " 'unscaled_coeffs_output_1_coeff_7',\n",
       " 'unscaled_coeffs_output_1_coeff_8',\n",
       " 'unscaled_coeffs_output_1_coeff_9',\n",
       " 'unscaled_coeffs_output_2_coeff_0',\n",
       " 'unscaled_coeffs_output_2_coeff_1',\n",
       " 'unscaled_coeffs_output_2_coeff_2',\n",
       " 'unscaled_coeffs_output_2_coeff_3',\n",
       " 'unscaled_coeffs_output_2_coeff_4',\n",
       " 'unscaled_coeffs_output_2_coeff_5',\n",
       " 'unscaled_coeffs_output_2_coeff_6',\n",
       " 'unscaled_coeffs_output_2_coeff_7',\n",
       " 'unscaled_coeffs_output_2_coeff_8',\n",
       " 'unscaled_coeffs_output_2_coeff_9',\n",
       " 'unscaled_coeffs_output_3_coeff_0',\n",
       " 'unscaled_coeffs_output_3_coeff_1',\n",
       " 'unscaled_coeffs_output_3_coeff_2',\n",
       " 'unscaled_coeffs_output_3_coeff_3',\n",
       " 'unscaled_coeffs_output_3_coeff_4',\n",
       " 'unscaled_coeffs_output_3_coeff_5',\n",
       " 'unscaled_coeffs_output_4_coeff_0',\n",
       " 'unscaled_coeffs_output_4_coeff_1',\n",
       " 'unscaled_coeffs_output_4_coeff_2',\n",
       " 'unscaled_coeffs_output_4_coeff_3',\n",
       " 'unscaled_coeffs_output_4_coeff_4',\n",
       " 'unscaled_coeffs_output_4_coeff_5']"
      ]
     },
     "execution_count": 21,
     "metadata": {},
     "output_type": "execute_result"
    }
   ],
   "source": [
    "# get list of all output values that were calculated during train()\n",
    "os.listdir(\"/data/deepymod/ODE_S4/\")"
   ]
  },
  {
   "cell_type": "code",
   "execution_count": 22,
   "metadata": {},
   "outputs": [
    {
     "name": "stdout",
     "output_type": "stream",
     "text": [
      "WARNING:tensorflow:From c:\\Users\\Maria\\anaconda3\\envs\\DeePyMoD\\lib\\site-packages\\tensorflow\\python\\summary\\summary_iterator.py:27: tf_record_iterator (from tensorflow.python.lib.io.tf_record) is deprecated and will be removed in a future version.\n",
      "Instructions for updating:\n",
      "Use eager execution and: \n",
      "`tf.data.TFRecordDataset(path)`\n"
     ]
    }
   ],
   "source": [
    "tmp_file = os.listdir(\"/data/deepymod/ODE_S4/loss_mse_output_0/\")[-1]\n",
    "file_dir = \"/data/deepymod/ODE_S4/loss_mse_output_0/\" + tmp_file\n",
    "\n",
    "train_loss = np.array([])\n",
    "i = 0\n",
    "\n",
    "for summary in summary_iterator(file_dir):\n",
    "    for value in summary.summary.value:\n",
    "        # Extract relevant information from the event\n",
    "        mse = value.simple_value\n",
    "        train_loss = np.append(train_loss, mse)\n",
    "        i += 1\n",
    "\n",
    "# train_loss"
   ]
  },
  {
   "cell_type": "code",
   "execution_count": 23,
   "metadata": {},
   "outputs": [],
   "source": [
    "tmp_file = os.listdir(\"/data/deepymod/ODE_S4/remaining_MSE_test_val_0/\")[-1]\n",
    "file_dir = \"/data/deepymod/ODE_S4/remaining_MSE_test_val_0/\" + tmp_file\n",
    "\n",
    "test_loss = np.array([])\n",
    "i = 0\n",
    "\n",
    "for summary in summary_iterator(file_dir):\n",
    "    for value in summary.summary.value:\n",
    "        # Extract relevant information from the event\n",
    "        mse = value.simple_value\n",
    "        test_loss = np.append(test_loss, mse)\n",
    "        i += 1\n",
    "\n",
    "# test_loss"
   ]
  },
  {
   "cell_type": "code",
   "execution_count": 24,
   "metadata": {},
   "outputs": [],
   "source": [
    "tmp_file = os.listdir(\"/data/deepymod/ODE_S4/loss_l1_output_0/\")[-1]\n",
    "file_dir = \"/data/deepymod/ODE_S4/loss_l1_output_0/\" + tmp_file\n",
    "\n",
    "l1_loss = np.array([])\n",
    "i = 0\n",
    "\n",
    "for summary in summary_iterator(file_dir):\n",
    "    for value in summary.summary.value:\n",
    "        # Extract relevant information from the event\n",
    "        mse = value.simple_value\n",
    "        l1_loss = np.append(l1_loss, mse)\n",
    "        i += 1\n",
    "\n",
    "# l1_loss"
   ]
  },
  {
   "cell_type": "code",
   "execution_count": 25,
   "metadata": {},
   "outputs": [],
   "source": [
    "tmp_file = os.listdir(\"/data/deepymod/ODE_S4/loss_reg_output_0/\")[-1]\n",
    "file_dir = \"/data/deepymod/ODE_S4/loss_reg_output_0/\" + tmp_file\n",
    "\n",
    "reg_loss = np.array([])\n",
    "i = 0\n",
    "\n",
    "for summary in summary_iterator(file_dir):\n",
    "    for value in summary.summary.value:\n",
    "        # Extract relevant information from the event\n",
    "        mse = value.simple_value\n",
    "        reg_loss = np.append(reg_loss, mse)\n",
    "        i += 1\n",
    "\n",
    "# reg_loss"
   ]
  },
  {
   "cell_type": "code",
   "execution_count": 26,
   "metadata": {},
   "outputs": [
    {
     "data": {
      "text/plain": [
       "<matplotlib.legend.Legend at 0x2a647b90be0>"
      ]
     },
     "execution_count": 26,
     "metadata": {},
     "output_type": "execute_result"
    },
    {
     "data": {
      "image/png": "[encoded data removed]",
      "text/plain": [
       "<Figure size 640x480 with 1 Axes>"
      ]
     },
     "metadata": {},
     "output_type": "display_data"
    }
   ],
   "source": [
    "fig, ax = plt.subplots()\n",
    "ax.plot(train_loss, c='#002635', marker='o', label='Train loss')\n",
    "ax.plot(test_loss, c='red', marker='o', ls='--', alpha=0.6, label='Test loss')\n",
    "ax.plot(reg_loss, c='gray', marker='o', ls='--', alpha=0.6, label='Reg loss')\n",
    "ax.plot(l1_loss, c='darkgray', marker='o', ls='--', alpha=0.6, label='L1 loss')\n",
    "ax.set_yscale('log')\n",
    "ax.set_xlabel('Iteration')\n",
    "ax.set_ylabel('Cost')\n",
    "ax.legend()\n",
    "# plt.xlim([0, 500])"
   ]
  },
  {
   "cell_type": "code",
   "execution_count": 27,
   "metadata": {},
   "outputs": [],
   "source": [
    "taxon = 1\n",
    "output = []\n",
    "\n",
    "for coef in np.arange(n_coefs):\n",
    "    tmp_file = os.listdir(f\"/data/deepymod/ODE_S4/coeffs_output_{taxon}_coeff_{coef}/\")[-1]\n",
    "    file_dir = f\"/data/deepymod/ODE_S4/coeffs_output_{taxon}_coeff_{coef}/\" + tmp_file\n",
    "\n",
    "    output_coef = np.array([])\n",
    "    i = 0\n",
    "    # os.listdir(file_dir)\n",
    "    for summary in summary_iterator(file_dir):\n",
    "        for value in summary.summary.value:\n",
    "            # Extract relevant information from the event\n",
    "            coef_val = value.simple_value\n",
    "            output_coef = np.append(output_coef, coef_val)\n",
    "            i += 1\n",
    "    output.append(output_coef)\n",
    "        "
   ]
  },
  {
   "cell_type": "code",
   "execution_count": 28,
   "metadata": {},
   "outputs": [],
   "source": [
    "# output"
   ]
  },
  {
   "cell_type": "code",
   "execution_count": 29,
   "metadata": {},
   "outputs": [
    {
     "data": {
      "text/plain": [
       "<matplotlib.legend.Legend at 0x2a6477ed9a0>"
      ]
     },
     "execution_count": 29,
     "metadata": {},
     "output_type": "execute_result"
    },
    {
     "data": {
      "image/png": "[encoded data removed]",
      "text/plain": [
       "<Figure size 640x480 with 1 Axes>"
      ]
     },
     "metadata": {},
     "output_type": "display_data"
    }
   ],
   "source": [
    "n_iteration = len(output[0])\n",
    "\n",
    "fig, ax = plt.subplots()\n",
    "for coef in np.arange(n_coefs):\n",
    "    # ax.plot(output[coef], marker='o', ls='--', alpha=0.6, label=f'Coef {coef}')\n",
    "    ax.scatter(np.arange(25*n_iteration, step = 25), output[coef], label = f'{library_values[taxon][coef]}', s=1)\n",
    "ax.set_xlabel('Iteration')\n",
    "ax.set_ylabel('Coefficient')\n",
    "ax.set_title(f'Coefficients for Taxon {taxon+1}')\n",
    "ax.legend()\n",
    "# plt.xlim([0, 500])\n",
    "# plt.ylim([-500, 500])"
   ]
  }
 ],
 "metadata": {
  "kernelspec": {
   "display_name": "DeePyMoD",
   "language": "python",
   "name": "python3"
  },
  "language_info": {
   "codemirror_mode": {
    "name": "ipython",
    "version": 3
   },
   "file_extension": ".py",
   "mimetype": "text/x-python",
   "name": "python",
   "nbconvert_exporter": "python",
   "pygments_lexer": "ipython3",
   "version": "3.8.16"
  },
  "orig_nbformat": 4
 },
 "nbformat": 4,
 "nbformat_minor": 2
}
