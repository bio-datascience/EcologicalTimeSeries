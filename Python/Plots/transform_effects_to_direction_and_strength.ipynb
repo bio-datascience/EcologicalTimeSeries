{
 "cells": [
  {
   "cell_type": "markdown",
   "metadata": {},
   "source": [
    "# Transform DeepMoD interactive effects into $e_{ijt}$ (direction) and $c_{ijt}$ (strength) of interactions from NODEBNGM"
   ]
  },
  {
   "cell_type": "code",
   "execution_count": 1,
   "metadata": {},
   "outputs": [],
   "source": [
    "# imports\n",
    "import numpy as np\n",
    "import matplotlib.pylab as plt\n",
    "import pandas as pd\n",
    "import os\n",
    "import seaborn as sns\n",
    "import re\n",
    "import matplotlib.gridspec as gridspec\n",
    "import math"
   ]
  },
  {
   "cell_type": "code",
   "execution_count": 2,
   "metadata": {},
   "outputs": [
    {
     "name": "stdout",
     "output_type": "stream",
     "text": [
      "shape of the dataset (151, 4)\n"
     ]
    }
   ],
   "source": [
    "# path of data file\n",
    "filename = f\"miaSim_glv_4species_new.csv\"\n",
    "filepath = \"C:/Users/Maria/Documents/Masterstudium/Masterarbeit/MScThesis/explore/data/final_datasets/\"\n",
    "\n",
    "# function to import the datafile and put it into the right format\n",
    "def create_data():\n",
    "    ts_all = []\n",
    "    data_all = []\n",
    "    names_all = []\n",
    "    data = pd.read_csv(f\"{filepath}{filename}\", sep=\",\", header=0)\n",
    "    names = list(data.columns)[1:]\n",
    "    usol = data.to_numpy()\n",
    "    ts = usol[:, 0]\n",
    "    data_y = usol[:, 1:]\n",
    "    print(f\"shape of the dataset\", data_y.shape)\n",
    "    # set dimensions of the dataset\n",
    "    global n_samples, n_taxa\n",
    "    n_samples, n_taxa = data_y.shape\n",
    "    return ts, data_y, names\n",
    "    \n",
    "T, Y, Names = create_data()"
   ]
  },
  {
   "cell_type": "code",
   "execution_count": 4,
   "metadata": {},
   "outputs": [],
   "source": [
    "# Given inputs\n",
    "n = n_taxa # Number of dimensions\n",
    "t = T  # Time steps\n",
    "matrix = Y # x values for each time step\n",
    "\n",
    "# growth vector g\n",
    "g = np.array([2/3, -1, 0.7, -3])\n",
    "# interaction matrix A\n",
    "A = np.array([\n",
    "    [-0.5, -15, 0, 0], \n",
    "    [10, -0.5, 0, 0], \n",
    "    [0, 0, -0.5, -10], \n",
    "    [0, 0, 25, -0.5]\n",
    "])"
   ]
  },
  {
   "cell_type": "markdown",
   "metadata": {},
   "source": [
    "# directions ($e_{ij}$) and strengths ($c_{ij}$) of interaction as defined for NODEBNGM\n",
    "\n",
    "$$e_{ijt} = \\frac{\\partial}{\\partial x_i} \\frac{d x_i}{dt} , \\; e_{ij} = \\frac{1}{K} \\sum_k e_{ijk}$$\n",
    "(mean over all time steps)\n",
    "\n",
    "$$c_{ijt} = \\frac{d x_j}{dt} \\frac{\\partial}{\\partial x_i} \\frac{d x_i}{dt} , \\; c_{ij} = (\\sum_{ijk} c_{ijk}^2 )^{-1} \\sum_{t} c_{ijt}^2$$\n",
    "(relative sum of squares)"
   ]
  },
  {
   "cell_type": "code",
   "execution_count": 5,
   "metadata": {},
   "outputs": [],
   "source": [
    "# Function to compute eij values for a given x, g, and A\n",
    "def compute_eij(x, g, A):\n",
    "    n = len(g)\n",
    "    e = np.zeros((n,n))\n",
    "    \n",
    "    for i in range(n):\n",
    "        for j in range(n):\n",
    "            if i == j:\n",
    "                e[i,j] = g[i] - x[i] - np.sum(A[i,:] * x)\n",
    "            else:\n",
    "                e[i,j] = A[i,j] * x[i] - A[j,i] * x[j]\n",
    "                \n",
    "    return e\n",
    "\n",
    "# Function to compute dx/dt for a given x, g, and A\n",
    "def dx_dt(x, g, A):\n",
    "    return g + np.dot(x, A)"
   ]
  },
  {
   "cell_type": "code",
   "execution_count": 7,
   "metadata": {},
   "outputs": [
    {
     "name": "stdout",
     "output_type": "stream",
     "text": [
      "[[ 1.20265622 -1.93020399  0.          0.        ]\n",
      " [ 1.93020399 -2.04536572  0.          0.        ]\n",
      " [ 0.          0.          1.25431411 -2.73476496]\n",
      " [ 0.          0.          2.73476496 -6.02844608]]\n",
      "[[0.00164128 0.0296675  0.         0.        ]\n",
      " [0.00402544 0.03028415 0.         0.        ]\n",
      " [0.         0.         0.01646821 0.15745151]\n",
      " [0.         0.         0.08663609 0.67382582]]\n"
     ]
    }
   ],
   "source": [
    "# Initialize matrices to store summed values\n",
    "eij_values_sum = np.zeros((n, n))\n",
    "c_values = np.zeros((n, n, len(t)))\n",
    "\n",
    "# Loop over all time steps to compute eij and cij values for each t\n",
    "for index in range(len(t)):\n",
    "    x_t = matrix[index, :]       # Extract x values for current time step\n",
    "    eij_t = compute_eij(x_t, g, A)   # Compute eij for current time step\n",
    "    \n",
    "    dx_dt_t = dx_dt(x_t, g, A)   # Compute dx/dt for current time step\n",
    "    for i in range(n):\n",
    "        for j in range(n):\n",
    "            # Compute cijt for current time step using eij and dx/dt values\n",
    "            c_values[i, j, index] = dx_dt_t[j] * eij_t[i, j]\n",
    "    eij_values_sum += eij_t      # Accumulate eij values for all t\n",
    "\n",
    "# Calculate mean eij over all time steps\n",
    "e_ij = eij_values_sum / len(t)\n",
    "\n",
    "# Initialize matrix to store the final cij values\n",
    "c_ij = np.zeros((n, n))\n",
    "\n",
    "# Loop over all i, j to compute cij values\n",
    "for i in range(n):\n",
    "    for j in range(n):\n",
    "        c_sum_squared = np.sum(c_values[i, j, :] ** 2)\n",
    "        # Calculate cij using the formula given\n",
    "        c_ij[i, j] = (np.sum(c_values[:, :, :] ** 2) ** -1) * c_sum_squared\n",
    "\n",
    "print(e_ij)\n",
    "print(c_ij)\n"
   ]
  },
  {
   "cell_type": "code",
   "execution_count": 16,
   "metadata": {},
   "outputs": [
    {
     "name": "stdout",
     "output_type": "stream",
     "text": [
      "[[ 0.   -0.06  0.    0.  ]\n",
      " [ 0.01 -0.06  0.    0.  ]\n",
      " [ 0.    0.    0.02 -0.43]\n",
      " [ 0.    0.    0.24 -4.06]]\n"
     ]
    },
    {
     "data": {
      "text/plain": [
       "<Axes: >"
      ]
     },
     "execution_count": 16,
     "metadata": {},
     "output_type": "execute_result"
    },
    {
     "data": {
      "image/png": "[encoded data removed]",
      "text/plain": [
       "<Figure size 640x480 with 2 Axes>"
      ]
     },
     "metadata": {},
     "output_type": "display_data"
    }
   ],
   "source": [
    "print((e_ij * c_ij).round(2))\n",
    "sns.heatmap(e_ij * c_ij, center=0, cmap=\"RdBu\")"
   ]
  }
 ],
 "metadata": {
  "kernelspec": {
   "display_name": "Python 3",
   "language": "python",
   "name": "python3"
  },
  "language_info": {
   "codemirror_mode": {
    "name": "ipython",
    "version": 3
   },
   "file_extension": ".py",
   "mimetype": "text/x-python",
   "name": "python",
   "nbconvert_exporter": "python",
   "pygments_lexer": "ipython3",
   "version": "3.11.5"
  }
 },
 "nbformat": 4,
 "nbformat_minor": 2
}
